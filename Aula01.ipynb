{
  "nbformat": 4,
  "nbformat_minor": 0,
  "metadata": {
    "colab": {
      "name": "Aula01.ipynb",
      "provenance": [],
      "authorship_tag": "ABX9TyNaViW7skUr//lrVlVU3ge7",
      "include_colab_link": true
    },
    "kernelspec": {
      "name": "python3",
      "display_name": "Python 3"
    }
  },
  "cells": [
    {
      "cell_type": "markdown",
      "metadata": {
        "id": "view-in-github",
        "colab_type": "text"
      },
      "source": [
        "<a href=\"https://colab.research.google.com/github/bruno-ralmeida/Calculadora/blob/master/Aula01.ipynb\" target=\"_parent\"><img src=\"https://colab.research.google.com/assets/colab-badge.svg\" alt=\"Open In Colab\"/></a>"
      ]
    },
    {
      "cell_type": "markdown",
      "metadata": {
        "id": "woOdzhaC0-j9",
        "colab_type": "text"
      },
      "source": [
        "#**Bruno Rocha de Almeida**\n",
        "##**R.A: 81819312**"
      ]
    },
    {
      "cell_type": "markdown",
      "metadata": {
        "id": "2rlDx5P3vnnM",
        "colab_type": "text"
      },
      "source": [
        "#**Numérico**"
      ]
    },
    {
      "cell_type": "code",
      "metadata": {
        "id": "uh6Rc-_tvjkF",
        "colab_type": "code",
        "colab": {
          "base_uri": "https://localhost:8080/",
          "height": 187
        },
        "outputId": "c5032446-71ac-4236-e822-8b99d3f4ca54"
      },
      "source": [
        "x = 3 \n",
        "print(f'Tipo primitivo de x: {type(x)}') \n",
        "print(f'Valor de x: {x}')\n",
        "print(f'Somando +1 em x: {x+1}') \n",
        "print(f'Subtrai 1 de x: {x-1}')\n",
        "print(f'Multiplica x por 2: {x*2}')\n",
        "print(f'Faz a exponeciação de x: {x ** 2}')\n",
        "x +=1  # x acrescenta mais um \n",
        "print(x)\n",
        "x *= 2 # x multiplicas por 2\n",
        "print(x)\n",
        "y = 2.5\n",
        "print(f'Tipo primitivo de x: {type(y)}') \n",
        "print(f'Mostrando resultados de y: {y, y + 1, y * 2, y ** 2}')"
      ],
      "execution_count": null,
      "outputs": [
        {
          "output_type": "stream",
          "text": [
            "Tipo primitivo de x: <class 'int'>\n",
            "Valor de x: 3\n",
            "Somando +1 em x: 4\n",
            "Subtrai 1 de x: 2\n",
            "Multiplica x por 2: 6\n",
            "Faz a exponeciação de x: 9\n",
            "4\n",
            "8\n",
            "Tipo primitivo de x: <class 'float'>\n",
            "Mostrando resultados de y: (2.5, 3.5, 5.0, 6.25)\n"
          ],
          "name": "stdout"
        }
      ]
    },
    {
      "cell_type": "markdown",
      "metadata": {
        "id": "6lJtBmAvz_Pq",
        "colab_type": "text"
      },
      "source": [
        "#**Lógico**"
      ]
    },
    {
      "cell_type": "code",
      "metadata": {
        "id": "aATlzwlp0FJI",
        "colab_type": "code",
        "colab": {
          "base_uri": "https://localhost:8080/",
          "height": 102
        },
        "outputId": "0a44b16e-c293-46e0-edd6-e7ef7e2c403b"
      },
      "source": [
        "t = True \n",
        "f = False\n",
        "print(f'Tipo primitivo de x: {type(t)}')\n",
        "print(f'Resultado do teste lógico \"t\" e \"f\": {t and f}') #Retorna verdadeiro se as duas condições forem verdadeiras\n",
        "print(f'Resultado do teste lógico \"t\" ou \"f\": {t or f}') #Retorna verdadeiro se uma condição for verdadeira\n",
        "print(f'Resultado do teste lógico negando \"t\": {not t}') #Inverte o valor do resultado\n",
        "print(f'Resultado do teste lógico \"t\" diferente \"f\": {t != f}') #Retorna verdadeiro se a primeira condição for diferente da segunda\n"
      ],
      "execution_count": null,
      "outputs": [
        {
          "output_type": "stream",
          "text": [
            "Tipo primitivo de x: <class 'bool'>\n",
            "Resultado do teste lógico \"t\" e \"f\": False\n",
            "Resultado do teste lógico \"t\" ou \"f\": True\n",
            "Resultado do teste lógico negando \"t\": False\n",
            "Resultado do teste lógico \"t\" diferente \"f\": True\n"
          ],
          "name": "stdout"
        }
      ]
    },
    {
      "cell_type": "markdown",
      "metadata": {
        "id": "JuzjHP3D12Da",
        "colab_type": "text"
      },
      "source": [
        "#**String**"
      ]
    },
    {
      "cell_type": "code",
      "metadata": {
        "id": "QjenDrG715aJ",
        "colab_type": "code",
        "colab": {
          "base_uri": "https://localhost:8080/",
          "height": 255
        },
        "outputId": "8126985e-27e7-4b0f-e6bb-1852c01cf984"
      },
      "source": [
        "n = 'Bruno'\n",
        "s = 'Rocha'\n",
        "print(f'Nome: {n}.')\n",
        "print(f'Sobrenome: {s}.')\n",
        "print(f'Nome Completo: {n + \" \" + s}.')\n",
        "hw = 'hello wolrd'\n",
        "print(hw)\n",
        "print(len(hw))\n",
        "print(f'Mostrando a frase HW: {hw}.')\n",
        "print(hw)\n",
        "hw12 = '{} {} {}'.format(hw, 'num', 12)\n",
        "print(hw12)\n",
        "s = \"hello world\"\n",
        "print(f'Primeira letra maiúscula: {s.capitalize()}')\n",
        "print(f'Convertendo todas as letras para maiúsculo: {s.upper()}')\n",
        "print(f'Justificando o texto a direita: {s.rjust(7)}')\n",
        "print(f'Justificando o texto ao centro: {s.center(7)}')\n",
        "print(f'Alterando caracteres: {s.replace(\"l\", \"(ell)\")}')\n",
        "print(f'Retirando os espaços da string: {\" world \".strip()}') "
      ],
      "execution_count": 33,
      "outputs": [
        {
          "output_type": "stream",
          "text": [
            "Nome: Bruno.\n",
            "Sobrenome: Rocha.\n",
            "Nome Completo: Bruno Rocha.\n",
            "hello wolrd\n",
            "11\n",
            "Mostrando a frase HW: hello wolrd.\n",
            "hello wolrd\n",
            "hello wolrd num 12\n",
            "Primeira letra maiúscula: Hello world\n",
            "Convertendo todas as letras para maiúsculo: HELLO WORLD\n",
            "Justificando o texto a direita: hello world\n",
            "Justificando o texto ao centro: hello world\n",
            "Alterando caracteres: he(ell)(ell)o wor(ell)d\n",
            "Retirando os espaços da string: world\n"
          ],
          "name": "stdout"
        }
      ]
    },
    {
      "cell_type": "markdown",
      "metadata": {
        "id": "cXxYI1ihqH3K",
        "colab_type": "text"
      },
      "source": [
        "#**Estrutura de dados**"
      ]
    },
    {
      "cell_type": "markdown",
      "metadata": {
        "id": "q75ZtRk4uQZ5",
        "colab_type": "text"
      },
      "source": [
        "##Listas"
      ]
    },
    {
      "cell_type": "code",
      "metadata": {
        "id": "yw91NbEY19qO",
        "colab_type": "code",
        "colab": {
          "base_uri": "https://localhost:8080/",
          "height": 306
        },
        "outputId": "6fdab3d3-cb70-428c-8741-d15f7107b21c"
      },
      "source": [
        "xs = [3, 1, 2, 'texto'] #Criando lista\n",
        "print(f'Mostrando a lista e valor do segundo elemento: {xs,  xs[2]}') #A lista inicia na posição 0.\n",
        "print(f'Mostra a lista inversa: {xs[-1]}')\n",
        "\n",
        "xs[2] = 'texto' #Alterando o elemento na 2° posição\n",
        "print(xs) #Mostra a lista\n",
        "\n",
        "xs.append('outro') #Adicionando elemento na ultima posição\n",
        "print(f'Mostra a lista atualizada: {xs}') \n",
        "\n",
        "x = xs.pop() #Remove o ultimo elemento da lista\n",
        "print(x, xs)\n",
        "\n",
        "animais = ['gato', 'cachorro', 'macaco']\n",
        "for animal in animais: #Criando laço de repetição a partir de uma lista\n",
        " print(f'Animal: {animal}')\n",
        "\n",
        "#Criando lista a partir de range\n",
        "l1 = list(range(5)) # 0 a 5-1\n",
        "print(f'Lista 01: {l1}')\n",
        "l2 = list(range(3,8)) # 3 a 8-1\n",
        "print(f'Lista 02: {l2}')\n",
        "l3 = list(range(2,11,3))#2 a 11 com salto de 3 números\n",
        "print(f'Lista 03: {l3}')\n",
        "l4 = l1 + l2 #Concatenando listas\n",
        "print(f'Lista 04 = l1 + l2: {l4}')\n",
        "l5 = l3 * 4 #Repitindo a lista 4x\n",
        "print(f'Lista 05 = l3*3: {l5}')\n",
        "l6 = [9 , 'texto' , 5.7 , [16, 11 , 18] , \"Python\" , [7 , 8]] #Adicionando elementos de diversos tipos numa lista\n",
        "print(f'Lista 06 com elementos de diversos tipos: {l6}')\n",
        "l7 = l6[1:4]\n",
        "print(f'Lista 07 que recebeu a lista 06 a partir do 1° até o 4° elemento: {l7}')\n",
        "l8 = l6[2:]\n",
        "print(f'Lista 08 que recebeu a lista 06 a partir do 2° elemento: {l8}')\n",
        "l9 = l6[:4]\n",
        "print(f'Lista 09 que recebu a lista 06 até o 4° elemento: {l9}')"
      ],
      "execution_count": 45,
      "outputs": [
        {
          "output_type": "stream",
          "text": [
            "Mostrando a lista e valor do segundo elemento: ([3, 1, 2, 'texto'], 2)\n",
            "Mostra a lista inversa: texto\n",
            "[3, 1, 'texto', 'texto']\n",
            "Mostra a lista atualizada: [3, 1, 'texto', 'texto', 'outro']\n",
            "outro [3, 1, 'texto', 'texto']\n",
            "Animal: gato\n",
            "Animal: cachorro\n",
            "Animal: macaco\n",
            "Lista 01: [0, 1, 2, 3, 4]\n",
            "Lista 02: [3, 4, 5, 6, 7]\n",
            "Lista 03: [2, 5, 8]\n",
            "Lista 04 = l1 + l2: [0, 1, 2, 3, 4, 3, 4, 5, 6, 7]\n",
            "Lista 05 = l3*3: [2, 5, 8, 2, 5, 8, 2, 5, 8, 2, 5, 8]\n",
            "Lista 06 com elementos de diversos tipos: [9, 'texto', 5.7, [16, 11, 18], 'Python', [7, 8]]\n",
            "Lista 07 que recebeu a lista 06 a partir do 1° até o 4° elemento: ['texto', 5.7, [16, 11, 18]]\n",
            "Lista 08 que recebeu a lista 06 a partir do 2° elemento: [5.7, [16, 11, 18], 'Python', [7, 8]]\n",
            "Lista 09 que recebu a lista 06 até o 4° elemento: [9, 'texto', 5.7, [16, 11, 18]]\n"
          ],
          "name": "stdout"
        }
      ]
    },
    {
      "cell_type": "markdown",
      "metadata": {
        "id": "dw_0lJ04uUg5",
        "colab_type": "text"
      },
      "source": [
        "##Dicionários"
      ]
    },
    {
      "cell_type": "code",
      "metadata": {
        "id": "Whr__pmNuXK3",
        "colab_type": "code",
        "colab": {
          "base_uri": "https://localhost:8080/",
          "height": 255
        },
        "outputId": "e93e17db-044b-4e16-8492-dabb18de036c"
      },
      "source": [
        "Precos = {'lapis': 5.5, 'borracha': 7.0, 'caneta': 6.5}\n",
        "print(f'Mostrando o dicionário completo [CHAVE - VALOR]: {Precos}')\n",
        "print(\"o preco da borracha é:\", Precos ['borracha']) #Buscando um elemento pela chave\n",
        "print(f'Mostrando todas as chaves: {Precos.keys()}')\n",
        "print(f'Mostrando todos os valores: {Precos.values()}')\n",
        "#Buscando uma chave no dicionário\n",
        "print('caneta' in Precos) \n",
        "print('caderno' in Precos)\n",
        "del Precos['borracha'] #Excluindo uma chave/valor\n",
        "print(f'Mostrando novo dicionário: {Precos}')\n",
        "\n",
        "\n",
        "#Criando novo diciónario\n",
        "d = {'gato': 'cat', 'cachorro': 'dog'}\n",
        "print(f'Mostrando valor da chave gato: {d[\"gato\"]}')\n",
        "\n",
        "print(f'A chave gato está no diciónario: {\"gato\" in d}')\n",
        "\n",
        "print(f'Mostrando o dicionário: {d}')\n",
        "d['peixe'] = 'fish' #Criando uma nova chave\n",
        "print(f'Mostrando o valor da chave peixe: {d[\"peixe\"]}')\n",
        "#print(d['macaco'])\n",
        "# KeyError: 'macaco' porque não é uma chave do dicionário d\n",
        "print(f'Tentando buscar o valor da chave macaco ou mostrar N/A: {d.get(\"macaco\", \"N/A\")}')\n",
        "\n",
        "print(f'Tentando buscar o valor da chave peixe ou mostrar N/A: {d.get(\"peixe\", \"N/A\")}')\n",
        "del d['peixe'] #Removendo a chave peixe\n",
        "print(f'Tentando buscar o valor da chave peixe (após exclusão) ou mostrar N/A: {d.get(\"peixe\", \"N/A\")}')\n"
      ],
      "execution_count": 58,
      "outputs": [
        {
          "output_type": "stream",
          "text": [
            "Mostrando o dicionário completo [CHAVE - VALOR]: {'lapis': 5.5, 'borracha': 7.0, 'caneta': 6.5}\n",
            "o preco da borracha é: 7.0\n",
            "Mostrando todas as chaves: dict_keys(['lapis', 'borracha', 'caneta'])\n",
            "Mostrando todos os valores: dict_values([5.5, 7.0, 6.5])\n",
            "True\n",
            "False\n",
            "Mostrando novo dicionário: {'lapis': 5.5, 'caneta': 6.5}\n",
            "Mostrando valor da chave gato: cat\n",
            "A chave gato está no diciónario: True\n",
            "Mostrando o dicionário: {'gato': 'cat', 'cachorro': 'dog'}\n",
            "Mostrando o valor da chave peixe: fish\n",
            "Tentando buscar o valor da chave macaco ou mostrar N/A: N/A\n",
            "Tentando buscar o valor da chave peixe ou mostrar N/A: fish\n",
            "Tentando buscar o valor da chave peixe (após exclusão) ou mostrar N/A: N/A\n"
          ],
          "name": "stdout"
        }
      ]
    },
    {
      "cell_type": "markdown",
      "metadata": {
        "id": "uKsLI0JAyVwL",
        "colab_type": "text"
      },
      "source": [
        "##Sets"
      ]
    },
    {
      "cell_type": "code",
      "metadata": {
        "id": "uht3GeOVyXVl",
        "colab_type": "code",
        "colab": {
          "base_uri": "https://localhost:8080/",
          "height": 119
        },
        "outputId": "9711dfb8-9831-451d-df62-6171351d0e38"
      },
      "source": [
        "animais = {'gato', 'cachorro'}\n",
        "print(f'Verifica se a chave gato está no set: {\"gato\" in animais}')\n",
        "print(f'Verifica se a chave peixe está no set: {\"peixe\" in animais}')\n",
        "\n",
        "animais.add('peixe') #Adicionado elemento no Set\n",
        "print(f'Verifica se a chave peixe está no set: {\"peixe\" in animais}')\n",
        "print(f'O tamanho do set é: {len(animais)}')\n",
        "animais.add('gato') #Como o elemento gato existe ele não será adicionado.\n",
        "print(f'O tamanho do set após a tentativa de inserir o elemento gato é: {len(animais)}')\n",
        "animais.remove('gato')#Remove um elemento do set\n",
        "print(f'O tamanho do set após a remover o elemento gato é: {len(animais)}')\n"
      ],
      "execution_count": 62,
      "outputs": [
        {
          "output_type": "stream",
          "text": [
            "Verifica se a chave gato está no set: True\n",
            "Verifica se a chave peixe está no set: False\n",
            "Verifica se a chave peixe está no set: True\n",
            "O tamanho do set é: 3\n",
            "O tamanho do set após a tentativa de inserir o elemento gato é: 3\n",
            "O tamanho do set após a remover o elemento gato é: 2\n"
          ],
          "name": "stdout"
        }
      ]
    },
    {
      "cell_type": "markdown",
      "metadata": {
        "id": "yfgmh9-Mz1nS",
        "colab_type": "text"
      },
      "source": [
        "##Tuplas"
      ]
    },
    {
      "cell_type": "code",
      "metadata": {
        "id": "FDjwou71z3nf",
        "colab_type": "code",
        "colab": {
          "base_uri": "https://localhost:8080/",
          "height": 119
        },
        "outputId": "4af959fc-5749-4063-9d20-53811043d71a"
      },
      "source": [
        "tp1 = (1,2,3,4,5,6) #Criando uma tupla\n",
        "print(f'Mostrando o valor da tupla tp1: {tp1}')\n",
        "print(f'Mostrando o valor do 4° índice da tupla: {tp1[4]}')\n",
        "d = {(0, 1): 0, (1, 2): 1, (2, 3): 2, (3, 4): 3, (4, 5): 4,\n",
        "(5, 6): 5, (6, 7): 6, (7, 8): 7, (8, 9): 8, (9, 10): 9} #Criando um dicionário de com tuplas como chaves\n",
        "print(f'Mostrando o dicionário: {d}')\n",
        "\n",
        "tp2 = (5, 6)\n",
        "print(f'O tipo da variável tp2 é: {type(tp2)}')\n",
        "print(f'Mostrando o valor da chave (5,6) recebendo uma tupla(tp2) como parametro: {d[tp2]}')\n",
        "print(f'Mostrando o valor da chave (1,2): {d[1,2]}')"
      ],
      "execution_count": 66,
      "outputs": [
        {
          "output_type": "stream",
          "text": [
            "Mostrando o valor da tupla tp1: (1, 2, 3, 4, 5, 6)\n",
            "Mostrando o valor do 4° índice da tupla: 5\n",
            "Mostrando o dicionário: {(0, 1): 0, (1, 2): 1, (2, 3): 2, (3, 4): 3, (4, 5): 4, (5, 6): 5, (6, 7): 6, (7, 8): 7, (8, 9): 8, (9, 10): 9}\n",
            "O tipo da variável tp2 é: <class 'tuple'>\n",
            "Mostrando o valor da chave (5,6) recebendo uma tupla(tp2) como parametro: 5\n",
            "Mostrando o valor da chave (1,2): 1\n"
          ],
          "name": "stdout"
        }
      ]
    }
  ]
}